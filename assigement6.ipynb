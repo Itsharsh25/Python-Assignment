{
 "cells": [
  {
   "cell_type": "code",
   "execution_count": 1,
   "metadata": {},
   "outputs": [],
   "source": [
    "#1. Given an array a = np.array([10, 20, 30, 40, 50]) and \n",
    "#    an index array i = np.array([0, 1, 3]), use fancy indexing \n",
    "#    to extract elements and assign new values to them. "
   ]
  },
  {
   "cell_type": "code",
   "execution_count": 2,
   "metadata": {},
   "outputs": [
    {
     "name": "stdout",
     "output_type": "stream",
     "text": [
      "Extracted elements: [10 20 40]\n",
      "Array after assignment: [100 200  30 400  50]\n"
     ]
    }
   ],
   "source": [
    "import numpy as np\n",
    "\n",
    "# Given arrays\n",
    "a = np.array([10, 20, 30, 40, 50])\n",
    "i = np.array([0, 1, 3])\n",
    "\n",
    "# Extract elements using fancy indexing\n",
    "extracted_elements = a[i]\n",
    "print(\"Extracted elements:\", extracted_elements)\n",
    "\n",
    "# Assign new values to the selected elements\n",
    "new_values = np.array([100, 200, 400])\n",
    "a[i] = new_values\n",
    "\n",
    "print(\"Array after assignment:\", a)\n"
   ]
  },
  {
   "cell_type": "code",
   "execution_count": null,
   "metadata": {},
   "outputs": [],
   "source": [
    "#2.Create a 4x4 matrix and compute the sum of all elements, the sum \n",
    "#  of each column, and the sum of each row. "
   ]
  },
  {
   "cell_type": "code",
   "execution_count": 3,
   "metadata": {},
   "outputs": [
    {
     "name": "stdout",
     "output_type": "stream",
     "text": [
      "Matrix:\n",
      " [[ 1  2  3  4]\n",
      " [ 5  6  7  8]\n",
      " [ 9 10 11 12]\n",
      " [13 14 15 16]]\n",
      "Sum of all elements: 136\n",
      "Sum of each column: [28 32 36 40]\n",
      "Sum of each row: [10 26 42 58]\n"
     ]
    }
   ],
   "source": [
    "# Create a 4x4 matrix\n",
    "m = np.array([\n",
    "    [1, 2, 3, 4],\n",
    "    [5, 6, 7, 8],\n",
    "    [9, 10, 11, 12],\n",
    "    [13, 14, 15, 16]\n",
    "])\n",
    "\n",
    "# Step 2: Compute the sum of all elements\n",
    "total_sum = np.sum(m)\n",
    "\n",
    "# Step 3: Compute the sum of each column\n",
    "column_sums = np.sum(m, axis=0)\n",
    "\n",
    "# Step 4: Compute the sum of each row\n",
    "row_sums = np.sum(m, axis=1)\n",
    "\n",
    "# Print the results\n",
    "print(\"Matrix:\\n\", m)\n",
    "print(\"Sum of all elements:\", total_sum)\n",
    "print(\"Sum of each column:\", column_sums)\n",
    "print(\"Sum of each row:\", row_sums)\n"
   ]
  },
  {
   "cell_type": "code",
   "execution_count": null,
   "metadata": {},
   "outputs": [],
   "source": [
    "#3. Given a 3-D array of shape (3, 4, 5), slice out a sub-array that\n",
    "#   contains the last two rows and columns of the last two matrices."
   ]
  },
  {
   "cell_type": "code",
   "execution_count": 4,
   "metadata": {},
   "outputs": [
    {
     "name": "stdout",
     "output_type": "stream",
     "text": [
      "Original array:\n",
      " [[[ 0  1  2  3  4]\n",
      "  [ 5  6  7  8  9]\n",
      "  [10 11 12 13 14]\n",
      "  [15 16 17 18 19]]\n",
      "\n",
      " [[20 21 22 23 24]\n",
      "  [25 26 27 28 29]\n",
      "  [30 31 32 33 34]\n",
      "  [35 36 37 38 39]]\n",
      "\n",
      " [[40 41 42 43 44]\n",
      "  [45 46 47 48 49]\n",
      "  [50 51 52 53 54]\n",
      "  [55 56 57 58 59]]]\n",
      "Sub-array with the last two rows and columns of the last two matrices:\n",
      " [[[13 14]\n",
      "  [18 19]]\n",
      "\n",
      " [[33 34]\n",
      "  [38 39]]\n",
      "\n",
      " [[53 54]\n",
      "  [58 59]]]\n"
     ]
    }
   ],
   "source": [
    "#Create a 3-D array\n",
    "array_3d = np.arange(60).reshape(3, 4, 5)\n",
    "print(\"Original array:\\n\", array_3d)\n",
    "\n",
    "#Slice out the sub-array containing the last two rows and columns of the last two matrices\n",
    "sub_array = array_3d[:, -2:, -2:]\n",
    "print(\"Sub-array with the last two rows and columns of the last two matrices:\\n\", sub_array)\n"
   ]
  },
  {
   "cell_type": "code",
   "execution_count": null,
   "metadata": {},
   "outputs": [],
   "source": []
  }
 ],
 "metadata": {
  "kernelspec": {
   "display_name": "Python 3",
   "language": "python",
   "name": "python3"
  },
  "language_info": {
   "codemirror_mode": {
    "name": "ipython",
    "version": 3
   },
   "file_extension": ".py",
   "mimetype": "text/x-python",
   "name": "python",
   "nbconvert_exporter": "python",
   "pygments_lexer": "ipython3",
   "version": "3.12.3"
  }
 },
 "nbformat": 4,
 "nbformat_minor": 2
}
