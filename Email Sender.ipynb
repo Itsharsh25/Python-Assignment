{
 "cells": [
  {
   "cell_type": "code",
   "execution_count": null,
   "id": "d7f39f47-62e3-48c5-b14b-e14991912843",
   "metadata": {},
   "outputs": [],
   "source": [
    "import smtplib\n",
    "try:\n",
    "    server = smtplib.SMTP(host = 'SMTP.gmail.com', port = 587)\n",
    "    server.starttls()                                 #start server\n",
    "    recever_email = input('enter the email')          \n",
    "    sender_email = 'happyyt2502@gmail.com'\n",
    "    password = 'lohp hymj raeb mxxy'\n",
    "    server.login(sender_email, password =password)\n",
    "    subject = input('enter the message')\n",
    "    body = input('enter the msg')\n",
    "    message = f\"subject: {subject}\\n\\n{body}\"\n",
    "    server.sendmail(sender_email,recever_email,message)\n",
    "    print('email sent')\n",
    "    server.quit()\n",
    "\n",
    "except Exception as e:\n",
    "    print('email not sent')"
   ]
  }
 ],
 "metadata": {
  "kernelspec": {
   "display_name": "Python 3 (ipykernel)",
   "language": "python",
   "name": "python3"
  },
  "language_info": {
   "codemirror_mode": {
    "name": "ipython",
    "version": 3
   },
   "file_extension": ".py",
   "mimetype": "text/x-python",
   "name": "python",
   "nbconvert_exporter": "python",
   "pygments_lexer": "ipython3",
   "version": "3.11.6"
  }
 },
 "nbformat": 4,
 "nbformat_minor": 5
}
