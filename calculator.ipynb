{
 "cells": [
  {
   "cell_type": "markdown",
   "metadata": {},
   "source": [
    "### calculater "
   ]
  },
  {
   "cell_type": "code",
   "execution_count": 3,
   "metadata": {},
   "outputs": [
    {
     "name": "stdout",
     "output_type": "stream",
     "text": [
      "1.0 + 5.0 = 6.0\n"
     ]
    }
   ],
   "source": [
    "\n",
    "x = float(input(\"enter the 1st number (x): \"))\n",
    "y = float(input(\"enter the 2nd number (y): \"))\n",
    "\n",
    "operation = input(\"operation choose(+, -, *, /): \")\n",
    "\n",
    "if operation == '+':\n",
    "    result = x + y\n",
    "    print(f\"{x} + {y} = {result}\")\n",
    "elif operation == '-':\n",
    "    result = x - y\n",
    "    print(f\"{x} - {y} = {result}\")\n",
    "elif operation == '*':\n",
    "    result = x * y\n",
    "    print(f\"{x} * {y} = {result}\")\n",
    "elif operation == '/':\n",
    "    if y != 0:\n",
    "        result = x / y\n",
    "        print(f\"{x} / {y} = {result}\")\n",
    "    else:\n",
    "        print(\"zero division error\")\n",
    "else:\n",
    "    print(\"choose from operation\")\n"
   ]
  },
  {
   "cell_type": "code",
   "execution_count": null,
   "metadata": {},
   "outputs": [],
   "source": []
  }
 ],
 "metadata": {
  "kernelspec": {
   "display_name": "Python 3",
   "language": "python",
   "name": "python3"
  },
  "language_info": {
   "codemirror_mode": {
    "name": "ipython",
    "version": 3
   },
   "file_extension": ".py",
   "mimetype": "text/x-python",
   "name": "python",
   "nbconvert_exporter": "python",
   "pygments_lexer": "ipython3",
   "version": "3.12.3"
  }
 },
 "nbformat": 4,
 "nbformat_minor": 2
}
